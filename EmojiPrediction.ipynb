{
 "metadata": {
  "language_info": {
   "codemirror_mode": {
    "name": "ipython",
    "version": 3
   },
   "file_extension": ".py",
   "mimetype": "text/x-python",
   "name": "python",
   "nbconvert_exporter": "python",
   "pygments_lexer": "ipython3",
   "version": "3.8.3-final"
  },
  "orig_nbformat": 2,
  "kernelspec": {
   "name": "python3",
   "display_name": "Python 3"
  }
 },
 "nbformat": 4,
 "nbformat_minor": 2,
 "cells": [
  {
   "cell_type": "code",
   "execution_count": 1,
   "metadata": {},
   "outputs": [],
   "source": [
    "import numpy as np\n",
    "import pandas as pd\n",
    "import emoji as emoji"
   ]
  },
  {
   "cell_type": "code",
   "execution_count": 2,
   "metadata": {},
   "outputs": [],
   "source": [
    "train = pd.read_csv('train_emoji.csv',header=None)\n",
    "test = pd.read_csv('test_emoji.csv',header=None)"
   ]
  },
  {
   "cell_type": "code",
   "execution_count": 3,
   "metadata": {},
   "outputs": [
    {
     "output_type": "execute_result",
     "data": {
      "text/plain": [
       "                                 0  1   2     3\n",
       "0           never talk to me again  3 NaN   NaN\n",
       "1  I am proud of your achievements  2 NaN   NaN\n",
       "2   It is the worst day in my life  3 NaN   NaN\n",
       "3                 Miss you so much  0 NaN   [0]\n",
       "4                     food is life  4 NaN   NaN"
      ],
      "text/html": "<div>\n<style scoped>\n    .dataframe tbody tr th:only-of-type {\n        vertical-align: middle;\n    }\n\n    .dataframe tbody tr th {\n        vertical-align: top;\n    }\n\n    .dataframe thead th {\n        text-align: right;\n    }\n</style>\n<table border=\"1\" class=\"dataframe\">\n  <thead>\n    <tr style=\"text-align: right;\">\n      <th></th>\n      <th>0</th>\n      <th>1</th>\n      <th>2</th>\n      <th>3</th>\n    </tr>\n  </thead>\n  <tbody>\n    <tr>\n      <th>0</th>\n      <td>never talk to me again</td>\n      <td>3</td>\n      <td>NaN</td>\n      <td>NaN</td>\n    </tr>\n    <tr>\n      <th>1</th>\n      <td>I am proud of your achievements</td>\n      <td>2</td>\n      <td>NaN</td>\n      <td>NaN</td>\n    </tr>\n    <tr>\n      <th>2</th>\n      <td>It is the worst day in my life</td>\n      <td>3</td>\n      <td>NaN</td>\n      <td>NaN</td>\n    </tr>\n    <tr>\n      <th>3</th>\n      <td>Miss you so much</td>\n      <td>0</td>\n      <td>NaN</td>\n      <td>[0]</td>\n    </tr>\n    <tr>\n      <th>4</th>\n      <td>food is life</td>\n      <td>4</td>\n      <td>NaN</td>\n      <td>NaN</td>\n    </tr>\n  </tbody>\n</table>\n</div>"
     },
     "metadata": {},
     "execution_count": 3
    }
   ],
   "source": [
    "train.head()"
   ]
  },
  {
   "cell_type": "code",
   "execution_count": 4,
   "metadata": {},
   "outputs": [],
   "source": [
    "emoji_dictionary = {\"0\": \"\\u2764\\uFE0F\",    # :heart: prints a black instead of red heart depending on the font\n",
    "                    \"1\": \":baseball:\",\n",
    "                    \"2\": \":beaming_face_with_smiling_eyes:\",\n",
    "                    \"3\": \":downcast_face_with_sweat:\",\n",
    "                    \"4\": \":fork_and_knife:\",\n",
    "                   }"
   ]
  },
  {
   "cell_type": "code",
   "execution_count": 5,
   "metadata": {},
   "outputs": [
    {
     "output_type": "execute_result",
     "data": {
      "text/plain": [
       "'🍴'"
      ]
     },
     "metadata": {},
     "execution_count": 5
    }
   ],
   "source": [
    "emoji.emojize(\":fork_and_knife:\")"
   ]
  },
  {
   "cell_type": "code",
   "execution_count": 6,
   "metadata": {},
   "outputs": [
    {
     "output_type": "stream",
     "name": "stdout",
     "text": [
      "❤️\n⚾\n😁\n😓\n🍴\n"
     ]
    }
   ],
   "source": [
    "for e in emoji_dictionary.values():\n",
    "    print(emoji.emojize(e))"
   ]
  },
  {
   "cell_type": "code",
   "execution_count": 7,
   "metadata": {},
   "outputs": [
    {
     "output_type": "stream",
     "name": "stdout",
     "text": [
      "never talk to me again 😓\n",
      "I am proud of your achievements 😁\n",
      "It is the worst day in my life 😓\n",
      "Miss you so much ❤️\n",
      "food is life 🍴\n",
      "I love you mum ❤️\n",
      "Stop saying bullshit 😓\n",
      "congratulations on your acceptance 😁\n",
      "The assignment is too long  😓\n",
      "I want to go play ⚾\n"
     ]
    }
   ],
   "source": [
    "data = train.values\n",
    "for i in range(10):\n",
    "    print(data[i][0],emoji.emojize(emoji_dictionary[str(data[i][1])]))"
   ]
  },
  {
   "cell_type": "code",
   "execution_count": 8,
   "metadata": {},
   "outputs": [],
   "source": [
    "from keras.utils import to_categorical"
   ]
  },
  {
   "cell_type": "code",
   "execution_count": 9,
   "metadata": {},
   "outputs": [
    {
     "output_type": "stream",
     "name": "stdout",
     "text": [
      "(132,)\n(56,)\n(132, 5)\n(56, 5)\n"
     ]
    }
   ],
   "source": [
    "XT = train[0]\n",
    "Xt = test[0]\n",
    "YT = to_categorical(train[1])\n",
    "Yt = to_categorical(test[1])\n",
    "\n",
    "print(XT.shape)\n",
    "print(Xt.shape)\n",
    "print(YT.shape)\n",
    "print(Yt.shape)"
   ]
  },
  {
   "cell_type": "code",
   "execution_count": 12,
   "metadata": {},
   "outputs": [],
   "source": [
    "embeddings = {}\n",
    "with open('glove.6B.50d.txt',encoding='utf-8') as f:\n",
    "    for line in f:\n",
    "        values = line.split()\n",
    "        word = values[0]\n",
    "        coeffs = np.asarray(values[1:],dtype='float32')\n",
    "        embeddings[word] = coeffs"
   ]
  },
  {
   "cell_type": "code",
   "execution_count": 13,
   "metadata": {},
   "outputs": [],
   "source": [
    "def getOutputEmbeddings(X):\n",
    "    \n",
    "    embedding_matrix_output = np.zeros((X.shape[0],10,50))\n",
    "    for ix in range(X.shape[0]):\n",
    "        X[ix] = X[ix].split()\n",
    "        for jx in range(len(X[ix])):\n",
    "            embedding_matrix_output[ix][jx] = embeddings[X[ix][jx].lower()]\n",
    "            \n",
    "    return embedding_matrix_output"
   ]
  },
  {
   "cell_type": "code",
   "execution_count": 14,
   "metadata": {},
   "outputs": [
    {
     "output_type": "stream",
     "name": "stdout",
     "text": [
      "(132, 10, 50)\n(56, 10, 50)\n"
     ]
    }
   ],
   "source": [
    "emb_XT = getOutputEmbeddings(XT)\n",
    "emb_Xt = getOutputEmbeddings(Xt)\n",
    "print(emb_XT.shape)\n",
    "print(emb_Xt.shape)"
   ]
  },
  {
   "cell_type": "code",
   "execution_count": 15,
   "metadata": {},
   "outputs": [],
   "source": [
    "from keras.layers import *\n",
    "from keras.models import Sequential"
   ]
  },
  {
   "cell_type": "code",
   "execution_count": 16,
   "metadata": {},
   "outputs": [
    {
     "output_type": "stream",
     "name": "stdout",
     "text": [
      "Model: \"sequential\"\n_________________________________________________________________\nLayer (type)                 Output Shape              Param #   \n=================================================================\nlstm (LSTM)                  (None, 10, 64)            29440     \n_________________________________________________________________\ndropout (Dropout)            (None, 10, 64)            0         \n_________________________________________________________________\nlstm_1 (LSTM)                (None, 64)                33024     \n_________________________________________________________________\ndropout_1 (Dropout)          (None, 64)                0         \n_________________________________________________________________\ndense (Dense)                (None, 5)                 325       \n_________________________________________________________________\nactivation (Activation)      (None, 5)                 0         \n=================================================================\nTotal params: 62,789\nTrainable params: 62,789\nNon-trainable params: 0\n_________________________________________________________________\n"
     ]
    }
   ],
   "source": [
    "model = Sequential()\n",
    "model.add(LSTM(64,input_shape=(10,50),return_sequences=True))\n",
    "model.add(Dropout(0.4))\n",
    "model.add(LSTM(64,input_shape=(10,50)))\n",
    "model.add(Dropout(0.3))\n",
    "model.add(Dense(5))\n",
    "model.add(Activation('softmax'))\n",
    "model.summary()"
   ]
  },
  {
   "cell_type": "code",
   "execution_count": 17,
   "metadata": {},
   "outputs": [
    {
     "output_type": "stream",
     "name": "stdout",
     "text": [
      "Epoch 1/40\n",
      "4/4 [==============================] - 3s 633ms/step - loss: 1.5994 - acc: 0.2373 - val_loss: 1.5925 - val_acc: 0.2857\n",
      "Epoch 2/40\n",
      "4/4 [==============================] - 0s 32ms/step - loss: 1.5383 - acc: 0.3220 - val_loss: 1.6445 - val_acc: 0.1429\n",
      "Epoch 3/40\n",
      "4/4 [==============================] - 0s 21ms/step - loss: 1.5132 - acc: 0.3305 - val_loss: 1.6714 - val_acc: 0.1429\n",
      "Epoch 4/40\n",
      "4/4 [==============================] - 0s 27ms/step - loss: 1.4891 - acc: 0.3729 - val_loss: 1.7039 - val_acc: 0.1429\n",
      "Epoch 5/40\n",
      "4/4 [==============================] - 0s 18ms/step - loss: 1.4409 - acc: 0.3390 - val_loss: 1.6502 - val_acc: 0.1429\n",
      "Epoch 6/40\n",
      "4/4 [==============================] - 0s 28ms/step - loss: 1.4140 - acc: 0.3898 - val_loss: 1.5741 - val_acc: 0.2857\n",
      "Epoch 7/40\n",
      "4/4 [==============================] - 0s 21ms/step - loss: 1.3603 - acc: 0.4322 - val_loss: 1.5312 - val_acc: 0.1429\n",
      "Epoch 8/40\n",
      "4/4 [==============================] - 0s 29ms/step - loss: 1.2786 - acc: 0.4915 - val_loss: 1.4165 - val_acc: 0.4286\n",
      "Epoch 9/40\n",
      "4/4 [==============================] - 0s 22ms/step - loss: 1.1646 - acc: 0.5678 - val_loss: 1.3629 - val_acc: 0.3571\n",
      "Epoch 10/40\n",
      "4/4 [==============================] - 0s 37ms/step - loss: 1.0806 - acc: 0.6186 - val_loss: 1.2287 - val_acc: 0.5714\n",
      "Epoch 11/40\n",
      "4/4 [==============================] - 0s 27ms/step - loss: 0.9924 - acc: 0.6356 - val_loss: 1.1945 - val_acc: 0.6429\n",
      "Epoch 12/40\n",
      "4/4 [==============================] - 0s 25ms/step - loss: 0.9067 - acc: 0.6949 - val_loss: 1.2212 - val_acc: 0.6429\n",
      "Epoch 13/40\n",
      "4/4 [==============================] - 0s 31ms/step - loss: 0.8209 - acc: 0.6949 - val_loss: 1.2560 - val_acc: 0.6429\n",
      "Epoch 14/40\n",
      "4/4 [==============================] - 0s 23ms/step - loss: 0.7546 - acc: 0.7542 - val_loss: 1.1051 - val_acc: 0.6429\n",
      "Epoch 15/40\n",
      "4/4 [==============================] - 0s 31ms/step - loss: 0.6432 - acc: 0.8220 - val_loss: 1.0581 - val_acc: 0.6429\n",
      "Epoch 16/40\n",
      "4/4 [==============================] - 0s 26ms/step - loss: 0.5749 - acc: 0.8220 - val_loss: 1.0083 - val_acc: 0.6429\n",
      "Epoch 17/40\n",
      "4/4 [==============================] - 0s 30ms/step - loss: 0.5259 - acc: 0.8729 - val_loss: 0.8211 - val_acc: 0.7143\n",
      "Epoch 18/40\n",
      "4/4 [==============================] - 0s 18ms/step - loss: 0.4640 - acc: 0.8729 - val_loss: 0.8543 - val_acc: 0.7143\n",
      "Epoch 19/40\n",
      "4/4 [==============================] - 0s 27ms/step - loss: 0.3862 - acc: 0.8983 - val_loss: 0.8038 - val_acc: 0.7143\n",
      "Epoch 20/40\n",
      "4/4 [==============================] - 0s 23ms/step - loss: 0.3474 - acc: 0.8898 - val_loss: 0.6373 - val_acc: 0.6429\n",
      "Epoch 21/40\n",
      "4/4 [==============================] - 0s 25ms/step - loss: 0.3276 - acc: 0.9068 - val_loss: 0.8807 - val_acc: 0.7143\n",
      "Epoch 22/40\n",
      "4/4 [==============================] - 0s 27ms/step - loss: 0.2816 - acc: 0.9153 - val_loss: 0.7146 - val_acc: 0.7857\n",
      "Epoch 23/40\n",
      "4/4 [==============================] - 0s 31ms/step - loss: 0.2425 - acc: 0.9322 - val_loss: 0.9015 - val_acc: 0.7143\n",
      "Epoch 24/40\n",
      "4/4 [==============================] - 0s 22ms/step - loss: 0.2575 - acc: 0.9237 - val_loss: 0.5546 - val_acc: 0.7857\n",
      "Epoch 25/40\n",
      "4/4 [==============================] - 0s 30ms/step - loss: 0.2270 - acc: 0.9322 - val_loss: 0.9087 - val_acc: 0.6429\n",
      "Epoch 26/40\n",
      "4/4 [==============================] - 0s 67ms/step - loss: 0.2132 - acc: 0.9407 - val_loss: 0.6438 - val_acc: 0.7857\n",
      "Epoch 27/40\n",
      "4/4 [==============================] - 0s 44ms/step - loss: 0.1969 - acc: 0.9492 - val_loss: 0.7240 - val_acc: 0.7857\n",
      "Epoch 28/40\n",
      "4/4 [==============================] - 0s 26ms/step - loss: 0.2179 - acc: 0.9068 - val_loss: 0.8227 - val_acc: 0.7143\n",
      "Epoch 29/40\n",
      "4/4 [==============================] - 0s 38ms/step - loss: 0.1861 - acc: 0.9237 - val_loss: 0.7406 - val_acc: 0.7857\n",
      "Epoch 30/40\n",
      "4/4 [==============================] - 0s 39ms/step - loss: 0.1118 - acc: 0.9661 - val_loss: 1.0706 - val_acc: 0.6429\n",
      "Epoch 31/40\n",
      "4/4 [==============================] - 0s 34ms/step - loss: 0.1773 - acc: 0.9576 - val_loss: 0.8872 - val_acc: 0.6429\n",
      "Epoch 32/40\n",
      "4/4 [==============================] - 0s 42ms/step - loss: 0.1488 - acc: 0.9322 - val_loss: 0.7514 - val_acc: 0.7857\n",
      "Epoch 33/40\n",
      "4/4 [==============================] - 0s 41ms/step - loss: 0.1763 - acc: 0.9576 - val_loss: 1.0846 - val_acc: 0.6429\n",
      "Epoch 34/40\n",
      "4/4 [==============================] - 0s 20ms/step - loss: 0.1545 - acc: 0.9576 - val_loss: 0.8058 - val_acc: 0.6429\n",
      "Epoch 35/40\n",
      "4/4 [==============================] - 0s 27ms/step - loss: 0.2163 - acc: 0.9492 - val_loss: 1.2452 - val_acc: 0.6429\n",
      "Epoch 36/40\n",
      "4/4 [==============================] - 0s 19ms/step - loss: 0.1094 - acc: 0.9746 - val_loss: 1.1490 - val_acc: 0.7143\n",
      "Epoch 37/40\n",
      "4/4 [==============================] - 0s 22ms/step - loss: 0.0995 - acc: 0.9661 - val_loss: 0.6491 - val_acc: 0.7857\n",
      "Epoch 38/40\n",
      "4/4 [==============================] - 0s 27ms/step - loss: 0.0907 - acc: 0.9831 - val_loss: 0.7998 - val_acc: 0.7143\n",
      "Epoch 39/40\n",
      "4/4 [==============================] - 0s 43ms/step - loss: 0.0718 - acc: 0.9831 - val_loss: 0.7290 - val_acc: 0.7143\n",
      "Epoch 40/40\n",
      "4/4 [==============================] - 0s 27ms/step - loss: 0.0612 - acc: 0.9915 - val_loss: 0.4219 - val_acc: 0.8571\n"
     ]
    },
    {
     "output_type": "execute_result",
     "data": {
      "text/plain": [
       "<tensorflow.python.keras.callbacks.History at 0x1cd34945610>"
      ]
     },
     "metadata": {},
     "execution_count": 17
    }
   ],
   "source": [
    "model.compile(optimizer='adam',loss='categorical_crossentropy',metrics=['acc'])\n",
    "model.fit(emb_XT,YT,batch_size=32,epochs=40,shuffle=True,validation_split=0.1)"
   ]
  },
  {
   "cell_type": "code",
   "execution_count": 18,
   "metadata": {},
   "outputs": [
    {
     "output_type": "stream",
     "name": "stdout",
     "text": [
      "2/2 [==============================] - 1s 447ms/step - loss: 1.3232 - acc: 0.6429\n"
     ]
    },
    {
     "output_type": "execute_result",
     "data": {
      "text/plain": [
       "[1.3232353925704956, 0.6428571343421936]"
      ]
     },
     "metadata": {},
     "execution_count": 18
    }
   ],
   "source": [
    "model.evaluate(emb_Xt,Yt)"
   ]
  },
  {
   "cell_type": "code",
   "execution_count": 19,
   "metadata": {},
   "outputs": [
    {
     "output_type": "stream",
     "name": "stdout",
     "text": [
      "WARNING:tensorflow:From <ipython-input-19-5e5057e7dfa1>:1: Sequential.predict_classes (from tensorflow.python.keras.engine.sequential) is deprecated and will be removed after 2021-01-01.\nInstructions for updating:\nPlease use instead:* `np.argmax(model.predict(x), axis=-1)`,   if your model does multi-class classification   (e.g. if it uses a `softmax` last-layer activation).* `(model.predict(x) > 0.5).astype(\"int32\")`,   if your model does binary classification   (e.g. if it uses a `sigmoid` last-layer activation).\n"
     ]
    }
   ],
   "source": [
    "pred = model.predict_classes(emb_Xt)"
   ]
  },
  {
   "cell_type": "code",
   "execution_count": 20,
   "metadata": {},
   "outputs": [
    {
     "output_type": "stream",
     "name": "stdout",
     "text": [
      "I want to eat\n🍴\n🍴\nhe did not answer\n😓\n😓\nhe got a raise\n😁\n😁\nshe got me a present\n❤️\n😁\nha ha ha it was so funny\n😁\n😁\nhe is a good friend\n❤️\n😁\nI am upset\n❤️\n😓\nWe had such a lovely dinner tonight\n❤️\n😁\nwhere is the food\n🍴\n🍴\nStop making this joke ha ha ha\n😁\n😁\nwhere is the ball\n⚾\n⚾\nwork is hard\n😓\n😁\nThis girl is messing with me\n😓\n❤️\nare you serious ha ha\n😁\n😓\nLet us go play baseball\n⚾\n⚾\nThis stupid grader is not working\n😓\n😓\nwork is horrible\n😓\n😓\nCongratulation for having a baby\n😁\n😁\nstop messing around\n😓\n😓\nany suggestions for dinner\n🍴\n😁\nI love taking breaks\n❤️\n😓\nyou brighten my day\n😁\n❤️\nI boiled rice\n🍴\n🍴\nshe is a bully\n😓\n😁\nWhy are you feeling bad\n😓\n😓\nI am upset\n😓\n😓\nI worked during my birthday\n😓\n😁\nMy grandmother is the love of my life\n❤️\n❤️\nenjoy your break\n😁\n🍴\nvalentine day is near\n❤️\n😁\n"
     ]
    }
   ],
   "source": [
    "for i in range(30):\n",
    "    print(' '.join(Xt[i]))\n",
    "    print(emoji.emojize(emoji_dictionary[str(np.argmax(Yt[i]))]))\n",
    "    print(emoji.emojize(emoji_dictionary[str(pred[i])]))"
   ]
  }
 ]
}